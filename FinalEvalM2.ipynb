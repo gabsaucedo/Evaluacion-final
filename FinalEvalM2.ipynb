{
 "cells": [
  {
   "cell_type": "code",
   "execution_count": null,
   "id": "8f67a28f-ace3-4013-9d76-363c52d8255e",
   "metadata": {},
   "outputs": [],
   "source": [
    "#*Exercise 2*\n",
    "# Data Science Tools and Ecosystem"
   ]
  },
  {
   "cell_type": "code",
   "execution_count": null,
   "id": "a82cebac-e372-499a-b776-458013e901d0",
   "metadata": {},
   "outputs": [],
   "source": [
    "#*Exercise 3*\n",
    "## In this notebook, Data Science Tools and Ecosystem are summarized."
   ]
  },
  {
   "cell_type": "code",
   "execution_count": null,
   "id": "f74db274-a74a-47f6-b6a6-b10378a8acad",
   "metadata": {},
   "outputs": [],
   "source": [
    "*Exercise 10*  \n",
    "\n",
    "**Objectives**  \n",
    "In this evaluation, the following were presented:  \n",
    "     * General support elements in data science: languages, libraries, etc.  \n",
    "    * The application of arithmetic operations was demonstrated,   \n",
    "    * And elements associated with text formatting"
   ]
  },
  {
   "cell_type": "code",
   "execution_count": null,
   "id": "16fd5e09-40f0-4d29-90de-e84670cf038e",
   "metadata": {},
   "outputs": [],
   "source": [
    "*Exercise 11* \n",
    "\n",
    "## Autor  \n",
    "Gabriela María Saucedo Meza"
   ]
  },
  {
   "cell_type": "markdown",
   "id": "c1407fc4-8a25-4876-8631-233932a1484f",
   "metadata": {},
   "source": [
    "*Exercise 4*  \n",
    "\n",
    "**Some of the popular languages that Data Scientists use are:**  \n",
    "1 Python  \n",
    "2 R  \n",
    "3 SQL  \n",
    "4 Java  \n",
    "5 Julia  \n",
    "6 Scala  \n",
    "7 C/C++  \n",
    "8 JavaScript  \n"
   ]
  },
  {
   "cell_type": "code",
   "execution_count": null,
   "id": "664fa2be-94a0-484c-986d-d8739b9efede",
   "metadata": {},
   "outputs": [],
   "source": [
    "*Exercise 5*  \n",
    "\n",
    "**Some of the commonly used libraries used by Data Scientists include:**  \n",
    "+ TensorFlow  \n",
    "+ NumPy  \n",
    "+ SciPy  \n",
    "+ Pandas  \n",
    "+ Matplotlib  \n",
    "\n"
   ]
  },
  {
   "cell_type": "markdown",
   "id": "fc2e485e-e452-4ae3-a80e-b0d80e3a9c28",
   "metadata": {},
   "source": [
    "*Exercise 6*  \n",
    "\n",
    "**Development environment open source tools used in data science**  \n",
    "| Data Science Tools|\n",
    "| -----| \n",
    "| Python|\n",
    "| Anaconda | \n",
    "| Tensor Flow | "
   ]
  },
  {
   "cell_type": "code",
   "execution_count": null,
   "id": "f4d0dc26-1fb1-4cc3-aaed-89922d092149",
   "metadata": {},
   "outputs": [],
   "source": [
    "*Exercise 7*  \n",
    "\n",
    "### Below are a few examples of evaluating arithmetic expressions in Python"
   ]
  },
  {
   "cell_type": "code",
   "execution_count": null,
   "id": "a4a8f8c7-552b-49cf-bc31-3ccbba1ea13b",
   "metadata": {},
   "outputs": [],
   "source": [
    "*Exercise 8*  \n",
    "\n",
    "* In this exercise two values are multiplied,the result added to a third value *"
   ]
  },
  {
   "cell_type": "code",
   "execution_count": 8,
   "id": "69d4576f-1250-4ffa-9af8-fc26e9c4d501",
   "metadata": {},
   "outputs": [
    {
     "data": {
      "text/plain": [
       "17"
      ]
     },
     "execution_count": 8,
     "metadata": {},
     "output_type": "execute_result"
    }
   ],
   "source": [
    "3 * 4 + 5 "
   ]
  },
  {
   "cell_type": "code",
   "execution_count": null,
   "id": "13bfa490-790c-43dd-b8c0-9d161a90be8d",
   "metadata": {},
   "outputs": [],
   "source": [
    "*Excersice 9*\n",
    "\n",
    "* This operation calculates how many hours is 200 minutes"
   ]
  },
  {
   "cell_type": "code",
   "execution_count": 12,
   "id": "952d35a7-ee62-4496-9132-796ecd9d80a9",
   "metadata": {},
   "outputs": [
    {
     "data": {
      "text/plain": [
       "3.3333333333333335"
      ]
     },
     "execution_count": 12,
     "metadata": {},
     "output_type": "execute_result"
    }
   ],
   "source": [
    "200/60"
   ]
  }
 ],
 "metadata": {
  "kernelspec": {
   "display_name": "Python",
   "language": "python",
   "name": "conda-env-python-py"
  },
  "language_info": {
   "codemirror_mode": {
    "name": "ipython",
    "version": 3
   },
   "file_extension": ".py",
   "mimetype": "text/x-python",
   "name": "python",
   "nbconvert_exporter": "python",
   "pygments_lexer": "ipython3",
   "version": "3.7.12"
  }
 },
 "nbformat": 4,
 "nbformat_minor": 5
}
